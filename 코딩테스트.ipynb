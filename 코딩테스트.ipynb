{
 "cells": [
  {
   "cell_type": "markdown",
   "id": "30ce3330",
   "metadata": {},
   "source": [
    "백준 133335번 트럭"
   ]
  },
  {
   "cell_type": "code",
   "execution_count": null,
   "id": "538ff5bf",
   "metadata": {},
   "outputs": [
    {
     "name": "stdout",
     "output_type": "stream",
     "text": [
      "1\n"
     ]
    }
   ],
   "source": [
    "n, w, L = map(int,(input().split()))\n",
    "truck = list(map(int,input().split()))\n",
    "bridge = [0] * w\n",
    "time = 0\n",
    "\n",
    "while bridge:\n",
    "    bridge.pop(0)\n",
    "    if truck:\n",
    "        if truck[0] + sum(bridge) <= L:\n",
    "            bridge.append(truck.pop(0))\n",
    "            \n",
    "            # print(truck)\n",
    "        else:\n",
    "            bridge.append(0)\n",
    "    time += 1\n",
    "    \n",
    "print(time)\n"
   ]
  },
  {
   "cell_type": "markdown",
   "id": "50f5b5dd",
   "metadata": {},
   "source": [
    "백준 10828번 스택"
   ]
  },
  {
   "cell_type": "code",
   "execution_count": null,
   "id": "1b7becf6",
   "metadata": {},
   "outputs": [
    {
     "name": "stdout",
     "output_type": "stream",
     "text": [
      "-1\n",
      "[]\n",
      "-1\n",
      "[]\n",
      "123\n",
      "['123']\n",
      "123\n",
      "[]\n",
      "-1\n",
      "[]\n",
      "-1\n",
      "[]\n"
     ]
    }
   ],
   "source": [
    "import sys\n",
    "input = sys.stdin.readline\n",
    "\n",
    "\n",
    "N = int(input())\n",
    "\n",
    "stackList = []\n",
    "\n",
    "def doCommand(command):\n",
    "    if command == \"pop\":\n",
    "        if len(stackList) > 0:\n",
    "            print(stackList[-1])\n",
    "            stackList.pop()\n",
    "        else:\n",
    "            print(-1)\n",
    "    elif command == \"size\":\n",
    "        print(len(stackList))\n",
    "    elif command == \"empty\":\n",
    "        if (stackList):\n",
    "            print(0)\n",
    "        else:\n",
    "            print(1)\n",
    "    elif command == \"top\":\n",
    "        if len(stackList) > 0:\n",
    "            print(stackList[-1])\n",
    "        else:\n",
    "            print(-1)\n",
    "    # print(stackList)\n",
    "\n",
    "\n",
    "for i in range(N):\n",
    "    command = input().split()\n",
    "    if len(command) == 2:\n",
    "        stackList.append(command[1])\n",
    "    else: doCommand(command[0])\n",
    "\n",
    "\n"
   ]
  },
  {
   "cell_type": "code",
   "execution_count": null,
   "id": "34c3d18c",
   "metadata": {},
   "outputs": [
    {
     "name": "stdout",
     "output_type": "stream",
     "text": [
      "8\n"
     ]
    }
   ],
   "source": [
    "\n"
   ]
  }
 ],
 "metadata": {
  "kernelspec": {
   "display_name": "Python 3",
   "language": "python",
   "name": "python3"
  },
  "language_info": {
   "codemirror_mode": {
    "name": "ipython",
    "version": 3
   },
   "file_extension": ".py",
   "mimetype": "text/x-python",
   "name": "python",
   "nbconvert_exporter": "python",
   "pygments_lexer": "ipython3",
   "version": "3.13.5"
  }
 },
 "nbformat": 4,
 "nbformat_minor": 5
}
