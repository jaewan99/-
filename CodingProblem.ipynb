{
 "cells": [
  {
   "cell_type": "markdown",
   "id": "04405a9a",
   "metadata": {},
   "source": [
    "leetcode // 19. Remove Nth Node From End of List"
   ]
  },
  {
   "cell_type": "code",
   "execution_count": null,
   "id": "4ab45058",
   "metadata": {},
   "outputs": [],
   "source": [
    " "
   ]
  }
 ],
 "metadata": {
  "language_info": {
   "name": "python"
  }
 },
 "nbformat": 4,
 "nbformat_minor": 5
}
